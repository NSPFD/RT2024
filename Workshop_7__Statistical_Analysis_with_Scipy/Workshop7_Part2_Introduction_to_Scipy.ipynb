{
 "cells": [
  {
   "cell_type": "markdown",
   "metadata": {},
   "source": [
    "## Data Wrangling with Pandas and Statistical Analysis with Scipy\n",
    "\n",
    "## Part 2 - Statistical Analysis with Scipy\n",
    "\n",
    "In this section, we will cover the basics of statistical analysis using Scipy. Scipy is a powerful Python library used for scientific and technical computing. We will start with an overview of Scipy, followed by a hands-on introduction to basic statistical analysis techniques such as descriptive statistics, t-tests, correlation, and regression analysis."
   ]
  },
  {
   "cell_type": "markdown",
   "metadata": {},
   "source": [
    "## Introduction to Statistical Analysis with Scipy\n",
    "\n",
    "### Overview of Scipy\n",
    "Scipy is a Python library used for scientific and technical computing. It builds on Numpy and provides a large collection of functions for numerical integration, optimization, statistics, signal processing, and more. Scipy is particularly valuable for performing complex mathematical operations on large datasets.\n",
    "\n",
    "### Key Submodules\n",
    "- **`scipy.stats`:** This module contains a wide range of statistical functions for descriptive and inferential statistics.\n",
    "- **`scipy.optimize`:** Used for optimization algorithms, including finding the minimum or maximum of a function.\n",
    "- **`scipy.integrate`:** Provides methods for performing numerical integration.\n",
    "- **`scipy.interpolate`:** Contains tools for interpolation (estimating data points within the range of a discrete set of known data points).\n",
    "- **`scipy.spatial`:** Provides functions for working with spatial data structures and algorithms.\n",
    "\n",
    "### Basic Setup\n",
    "Before using Scipy, ensure that it is installed in your environment. You can install it via pip:\n",
    "\n",
    "```bash\n",
    "pip install scipy"
   ]
  },
  {
   "cell_type": "code",
   "execution_count": 1,
   "metadata": {},
   "outputs": [],
   "source": [
    "import scipy.stats as stats\n",
    "import scipy.optimize as optimize\n",
    "import scipy.integrate as integrate"
   ]
  },
  {
   "cell_type": "markdown",
   "metadata": {},
   "source": [
    "\n",
    "### Basic Statistical Analysis with Scipy\n",
    "\n",
    "Here we explore some fundamental statistical analysis techniques using Scipy, including descriptive statistics, t-tests, correlation, and regression analysis."
   ]
  },
  {
   "cell_type": "markdown",
   "metadata": {},
   "source": [
    "**Descriptive Statistics**"
   ]
  },
  {
   "cell_type": "code",
   "execution_count": 5,
   "metadata": {},
   "outputs": [
    {
     "name": "stdout",
     "output_type": "stream",
     "text": [
      "Mean: 169.2\n",
      "Median: 171.0\n",
      "Mode: 169 with frequency 3\n",
      "Variance: 137.06\n",
      "Standard Deviation: 11.707262703125782\n"
     ]
    }
   ],
   "source": [
    "import numpy as np\n",
    "import scipy.stats as stats\n",
    "\n",
    "# Sample data: Heights of a group of individuals (in cm)\n",
    "data = np.array([167, 170, 169, 171, 173, 174, 168, 172, 175, 169, 120, 180, 178, 172, 171, 169, 173, 172, 171, 170])\n",
    "\n",
    "# Calculate descriptive statistics\n",
    "mean = np.mean(data)\n",
    "median = np.median(data)\n",
    "mode_result = stats.mode(data)\n",
    "variance = np.var(data)\n",
    "std_dev = np.std(data)\n",
    "\n",
    "# Access mode and count safely\n",
    "mode_value = mode_result.mode[0] if isinstance(mode_result.mode, np.ndarray) else mode_result.mode\n",
    "mode_count = mode_result.count[0] if isinstance(mode_result.count, np.ndarray) else mode_result.count\n",
    "\n",
    "print(\"Mean:\", mean)\n",
    "print(\"Median:\", median)\n",
    "print(\"Mode:\", mode_value, \"with frequency\", mode_count)\n",
    "print(\"Variance:\", variance)\n",
    "print(\"Standard Deviation:\", std_dev)"
   ]
  },
  {
   "cell_type": "markdown",
   "metadata": {},
   "source": [
    "**Descriptive Statistics in higher dimentional data**"
   ]
  },
  {
   "cell_type": "code",
   "execution_count": 18,
   "metadata": {},
   "outputs": [
    {
     "name": "stdout",
     "output_type": "stream",
     "text": [
      "Temperature Data for 15 Cities Over 15 Days:\n",
      "            Kathmandu  Pokhara  Biratnagar  Birgunj  Lalitpur  Bharatpur  \\\n",
      "2024-08-01       26.5     23.3        23.2     22.8      23.6       27.5   \n",
      "2024-08-02       24.6     22.0        30.6     23.6      24.4       25.3   \n",
      "2024-08-03       26.9     25.9        25.0     28.2      21.7       24.1   \n",
      "2024-08-04       29.6     22.3        21.8     26.0      21.4       25.3   \n",
      "2024-08-05       24.3     20.8        27.5     19.7      27.4       19.0   \n",
      "\n",
      "            Hetauda  Janakpur  Dharan  Butwal  Mahendranagar  Dhangadhi  \\\n",
      "2024-08-01     25.3      26.2    27.4    29.6           25.8       26.2   \n",
      "2024-08-02     27.9      30.7    22.3    22.7           26.0       27.5   \n",
      "2024-08-03     22.9      25.5    29.2    24.0           23.0       30.7   \n",
      "2024-08-04     24.0      25.8    20.8    27.4           25.7       24.3   \n",
      "2024-08-05     23.8      24.8    26.8    21.3           25.9       22.7   \n",
      "\n",
      "            Nepalgunj  Ghorahi  Tulsipur  \n",
      "2024-08-01       26.9     26.2      26.7  \n",
      "2024-08-02       22.4     22.3      28.4  \n",
      "2024-08-03       21.8     25.5      27.9  \n",
      "2024-08-04       26.4     25.2      27.0  \n",
      "2024-08-05       24.3     21.6      24.1  \n"
     ]
    }
   ],
   "source": [
    "import numpy as np\n",
    "import scipy.stats as stats\n",
    "import pandas as pd\n",
    "\n",
    "# List of 15 Nepali cities\n",
    "cities = [\n",
    "    \"Kathmandu\", \"Pokhara\", \"Biratnagar\", \"Birgunj\", \"Lalitpur\", \n",
    "    \"Bharatpur\", \"Hetauda\", \"Janakpur\", \"Dharan\", \"Butwal\", \n",
    "    \"Mahendranagar\", \"Dhangadhi\", \"Nepalgunj\", \"Ghorahi\", \"Tulsipur\"\n",
    "]\n",
    "\n",
    "# Generate a dataset of temperatures (in °C) for 15 days across 15 cities\n",
    "np.random.seed(42)  # For reproducibility\n",
    "temperatures = {city: np.round(np.random.normal(loc=25, scale=3, size=15), 1) for city in cities}  # Mean=25°C, SD=3°C\n",
    "\n",
    "# Create a DataFrame to hold the data\n",
    "df_temperatures = pd.DataFrame(temperatures, index=pd.date_range(start='2024-08-01', periods=15))\n",
    "\n",
    "# Display the first few rows of the DataFrame\n",
    "print(\"Temperature Data for 15 Cities Over 15 Days:\")\n",
    "print(df_temperatures.head())\n",
    "\n"
   ]
  },
  {
   "cell_type": "code",
   "execution_count": 19,
   "metadata": {},
   "outputs": [
    {
     "name": "stdout",
     "output_type": "stream",
     "text": [
      "\n",
      "Descriptive Statistics for Kathmandu:\n",
      "Mean: 25.026666666666667\n",
      "Median: 24.6\n",
      "Mode: 23.6 with frequency 3\n",
      "Variance: 8.265955555555554\n",
      "Standard Deviation: 2.875057487347958\n"
     ]
    }
   ],
   "source": [
    "# Calculate descriptive statistics for one of the Kathmandu\n",
    "kathmandu_temps = df_temperatures[\"Kathmandu\"]\n",
    "\n",
    "mean = np.mean(kathmandu_temps)\n",
    "median = np.median(kathmandu_temps)\n",
    "mode_result = stats.mode(kathmandu_temps)\n",
    "variance = np.var(kathmandu_temps)\n",
    "std_dev = np.std(kathmandu_temps)\n",
    "\n",
    "# Access mode and count safely\n",
    "mode_value = mode_result.mode[0] if isinstance(mode_result.mode, np.ndarray) else mode_result.mode\n",
    "mode_count = mode_result.count[0] if isinstance(mode_result.count, np.ndarray) else mode_result.count\n",
    "\n",
    "print(\"\\nDescriptive Statistics for Kathmandu:\")\n",
    "print(\"Mean:\", mean)\n",
    "print(\"Median:\", median)\n",
    "print(\"Mode:\", mode_value, \"with frequency\", mode_count)\n",
    "print(\"Variance:\", variance)\n",
    "print(\"Standard Deviation:\", std_dev)"
   ]
  },
  {
   "cell_type": "code",
   "execution_count": 20,
   "metadata": {},
   "outputs": [
    {
     "name": "stdout",
     "output_type": "stream",
     "text": [
      "\n",
      "Descriptive Statistics for Butwal:\n",
      "Mean: 24.886666666666667\n",
      "Median: 25.7\n",
      "Mode: 21.3 with frequency 2\n",
      "Variance: 8.319822222222221\n",
      "Standard Deviation: 2.8844102035290025\n"
     ]
    }
   ],
   "source": [
    "# Calculate descriptive statistics for one of the cities, e.g., Butwal\n",
    "Butwal_temps = df_temperatures[\"Butwal\"]\n",
    "\n",
    "mean = np.mean(Butwal_temps)\n",
    "median = np.median(Butwal_temps)\n",
    "mode_result = stats.mode(Butwal_temps)\n",
    "variance = np.var(Butwal_temps)\n",
    "std_dev = np.std(Butwal_temps)\n",
    "\n",
    "# Access mode and count safely\n",
    "mode_value = mode_result.mode[0] if isinstance(mode_result.mode, np.ndarray) else mode_result.mode\n",
    "mode_count = mode_result.count[0] if isinstance(mode_result.count, np.ndarray) else mode_result.count\n",
    "\n",
    "print(\"\\nDescriptive Statistics for Butwal:\")\n",
    "print(\"Mean:\", mean)\n",
    "print(\"Median:\", median)\n",
    "print(\"Mode:\", mode_value, \"with frequency\", mode_count)\n",
    "print(\"Variance:\", variance)\n",
    "print(\"Standard Deviation:\", std_dev)"
   ]
  },
  {
   "cell_type": "markdown",
   "metadata": {},
   "source": [
    "## Inferential Statistics: T-Tests\n"
   ]
  },
  {
   "cell_type": "markdown",
   "metadata": {},
   "source": [
    "In this section, we will perform t-tests using the Scipy library to determine whether there is a statistically significant difference between the means of two groups. T-tests are widely used in inferential statistics to compare two groups and assess whether their means are significantly different from each other.\n",
    "\n",
    "### Types of T-Tests:\n",
    "\n",
    "1.\t**Independent T-Test (ttest_ind)**:\n",
    "- Used to compare the means of two independent groups.\n",
    "- Example: Comparing the average temperature of two different cities over a period.\n",
    "2.\t**Paired T-Test (ttest_rel)**:\n",
    "- Used to compare means from the same group at different times (paired data).\n",
    "- Example: Comparing the average temperature of the same city between two different weeks.\n",
    "3.\t**One-Sample T-Test (ttest_1samp)**:\n",
    "- Used to test if the mean of a single group is different from a known value.\n",
    "- Example: Testing if the average temperature in a city is different from a historical average.\n",
    "\n",
    "#### Example: Independent T-Test\n",
    "\n",
    "Let’s perform an independent t-test to compare the mean temperatures of two different cities over a 15-day period."
   ]
  },
  {
   "cell_type": "code",
   "execution_count": 25,
   "metadata": {},
   "outputs": [
    {
     "name": "stdout",
     "output_type": "stream",
     "text": [
      "Temperature Data for Kathmandu and Pokhara:\n",
      "            Kathmandu  Pokhara\n",
      "2024-08-01       26.5     24.3\n",
      "2024-08-02       24.6     23.0\n",
      "2024-08-03       26.9     26.9\n",
      "2024-08-04       29.6     23.3\n",
      "2024-08-05       24.3     21.8\n",
      "2024-08-06       24.3     30.4\n",
      "2024-08-07       29.7     25.3\n",
      "2024-08-08       27.3     26.2\n",
      "2024-08-09       23.6     21.7\n",
      "2024-08-10       26.6     24.4\n",
      "2024-08-11       23.6     26.3\n",
      "2024-08-12       23.6     22.5\n",
      "2024-08-13       25.7     27.1\n",
      "2024-08-14       19.3     24.2\n",
      "2024-08-15       19.8     25.1\n",
      "\n",
      "Independent T-Test between Kathmandu and Pokhara:\n",
      "T-Statistic: 0.1982352872256718\n",
      "P-Value: 0.8442932578984743\n",
      "Result: There is no significant difference in the mean temperatures between Kathmandu and Pokhara.\n"
     ]
    }
   ],
   "source": [
    "import numpy as np\n",
    "import scipy.stats as stats\n",
    "import pandas as pd\n",
    "\n",
    "# Generate a dataset of temperatures (in °C) for 15 days across 15 cities, rounded to 1 decimal place\n",
    "np.random.seed(42)  # For reproducibility\n",
    "temperatures = {\n",
    "    \"Kathmandu\": np.round(np.random.normal(loc=25, scale=3, size=15), 1),\n",
    "    \"Pokhara\": np.round(np.random.normal(loc=26, scale=3, size=15), 1)\n",
    "}\n",
    "\n",
    "# Create a DataFrame to hold the data\n",
    "df_temperatures = pd.DataFrame(temperatures, index=pd.date_range(start='2024-08-01', periods=15))\n",
    "\n",
    "# Display the temperature data for Kathmandu and Pokhara\n",
    "print(\"Temperature Data for Kathmandu and Pokhara:\")\n",
    "print(df_temperatures)\n",
    "\n",
    "# Perform an independent t-test\n",
    "t_stat, p_value = stats.ttest_ind(df_temperatures[\"Kathmandu\"], df_temperatures[\"Pokhara\"])\n",
    "\n",
    "print(\"\\nIndependent T-Test between Kathmandu and Pokhara:\")\n",
    "print(\"T-Statistic:\", t_stat)\n",
    "print(\"P-Value:\", p_value)\n",
    "\n",
    "# Interpretation\n",
    "if p_value < 0.05:\n",
    "    print(\"Result: There is a significant difference in the mean temperatures between Kathmandu and Pokhara.\")\n",
    "else:\n",
    "    print(\"Result: There is no significant difference in the mean temperatures between Kathmandu and Pokhara.\")"
   ]
  },
  {
   "cell_type": "markdown",
   "metadata": {},
   "source": [
    "#### Explanation:\n",
    "\n",
    "- **Dataset Generation**:\n",
    "  - We generate temperature data for Kathmandu and Pokhara over 15 days.\n",
    "  - The temperatures are simulated using a normal distribution with a mean of 25°C for Kathmandu and 26°C for Pokhara, both with a standard deviation of 3°C.\n",
    "- **Independent T-Test (ttest_ind)**:\n",
    "  - The ttest_ind() function from Scipy is used to compare the means of the two independent groups (Kathmandu and Pokhara).\n",
    "  - The t-statistic tells us the difference between the means in terms of standard errors.\n",
    "  - The p-value indicates the probability of observing the data if the null hypothesis (that the means are equal) is true.\n",
    "- **Interpretation**:\n",
    "  - If the p-value is less than 0.05, we reject the null hypothesis and conclude that there is a significant difference between the mean temperatures of the two cities.\n",
    "  - If the p-value is greater than 0.05, we fail to reject the null hypothesis, meaning there’s no significant difference between the means.\n"
   ]
  },
  {
   "cell_type": "markdown",
   "metadata": {},
   "source": []
  },
  {
   "cell_type": "markdown",
   "metadata": {},
   "source": [
    "The **Pearson Correlation Coefficient (r)** is a measure of the linear relationship between two continuous variables. It quantifies the strength and direction of the relationship between the variables, making it a widely used statistic in data analysis.\n",
    "\n",
    "#### Pearson Correlation Coefficient (r)\n",
    "\n",
    "The Pearson correlation coefficient between two variables, X and Y, is calculated using the following formula:\n",
    "\n",
    "\\[\n",
    "r = \\frac{n(\\sum{XY}) - (\\sum{X})(\\sum{Y})}{\\sqrt{[n\\sum{X^2} - (\\sum{X})^2][n\\sum{Y^2} - (\\sum{Y})^2]}}\n",
    "\\]\n",
    "\n",
    "Where:\n",
    "- \\( n \\) = Number of data points\n",
    "- \\( \\sum{XY} \\) = Sum of the product of paired scores (X and Y)\n",
    "- \\( \\sum{X} \\) = Sum of the X scores\n",
    "- \\( \\sum{Y} \\) = Sum of the Y scores\n",
    "- \\( \\sum{X^2} \\) = Sum of the squares of the X scores\n",
    "- \\( \\sum{Y^2} \\) = Sum of the squares of the Y scores\n",
    "\n",
    "#### Interpretation of r\n",
    "\n",
    "- **Range:** The Pearson correlation coefficient ranges from -1 to 1.\n",
    "  - **r = 1:** Perfect positive linear correlation.\n",
    "  - **r = 0:** No linear correlation.\n",
    "  - **r = -1:** Perfect negative linear correlation.\n",
    "\n",
    "- **Direction:**\n",
    "  - **Positive r:** Indicates a positive relationship between X and Y (as X increases, Y also increases).\n",
    "  - **Negative r:** Indicates a negative relationship between X and Y (as X increases, Y decreases).\n",
    "\n",
    "- **Strength:**\n",
    "  - **|r| > 0.7:** Strong correlation.\n",
    "  - **0.3 < |r| < 0.7:** Moderate correlation.\n",
    "  - **|r| < 0.3:** Weak correlation.\n",
    "\n",
    "#### Significance Testing\n",
    "\n",
    "The significance of the Pearson correlation coefficient can be tested using a hypothesis test:\n",
    "\n",
    "- **Null Hypothesis (H₀):** There is no correlation between the variables (r = 0).\n",
    "- **Alternative Hypothesis (H₁):** There is a correlation between the variables (r ≠ 0).\n",
    "\n",
    "The **p-value** resulting from the test indicates the probability of observing the data if the null hypothesis is true:\n",
    "- **p-value < 0.05:** Reject H₀; conclude that there is a significant correlation.\n",
    "- **p-value ≥ 0.05:** Fail to reject H₀; conclude that there is no significant correlation."
   ]
  },
  {
   "cell_type": "markdown",
   "metadata": {},
   "source": []
  }
 ],
 "metadata": {
  "kernelspec": {
   "display_name": "base",
   "language": "python",
   "name": "python3"
  },
  "language_info": {
   "codemirror_mode": {
    "name": "ipython",
    "version": 3
   },
   "file_extension": ".py",
   "mimetype": "text/x-python",
   "name": "python",
   "nbconvert_exporter": "python",
   "pygments_lexer": "ipython3",
   "version": "3.10.6"
  }
 },
 "nbformat": 4,
 "nbformat_minor": 2
}
