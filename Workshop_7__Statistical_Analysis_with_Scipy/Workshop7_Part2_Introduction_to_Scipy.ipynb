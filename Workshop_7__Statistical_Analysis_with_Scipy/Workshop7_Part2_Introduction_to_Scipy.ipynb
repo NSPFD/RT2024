{
 "cells": [
  {
   "cell_type": "markdown",
   "metadata": {},
   "source": [
    "[![Open In Colab](https://colab.research.google.com/assets/colab-badge.svg)](https://colab.research.google.com/github/Nepal-Research-and-Collaboration-Center/RT2024/blob/main/Workshop_7__Statistical_Analysis_with_Scipy/Workshop7_Part2_Introduction_to_Scipy.ipynb)\n",
    "\n"
   ]
  },
  {
   "cell_type": "markdown",
   "metadata": {},
   "source": [
    "## Data Wrangling with Pandas and Statistical Analysis with Scipy\n",
    "\n",
    "## Part 2 - Statistical Analysis with Scipy\n",
    "\n",
    "In this section, we will cover the basics of statistical analysis using Scipy. Scipy is a powerful Python library used for scientific and technical computing. We will start with an overview of Scipy, followed by a hands-on introduction to basic statistical analysis techniques such as descriptive statistics, t-tests, correlation, and regression analysis."
   ]
  },
  {
   "cell_type": "markdown",
   "metadata": {},
   "source": [
    "## Introduction to Statistical Analysis with Scipy\n",
    "\n",
    "### Overview of Scipy\n",
    "Scipy is a Python library used for scientific and technical computing. It builds on Numpy and provides a large collection of functions for numerical integration, optimization, statistics, signal processing, and more. Scipy is particularly valuable for performing complex mathematical operations on large datasets.\n",
    "\n",
    "### Key Submodules\n",
    "- **`scipy.stats`:** This module contains a wide range of statistical functions for descriptive and inferential statistics.\n",
    "- **`scipy.optimize`:** Used for optimization algorithms, including finding the minimum or maximum of a function.\n",
    "- **`scipy.integrate`:** Provides methods for performing numerical integration.\n",
    "- **`scipy.interpolate`:** Contains tools for interpolation (estimating data points within the range of a discrete set of known data points).\n",
    "- **`scipy.spatial`:** Provides functions for working with spatial data structures and algorithms.\n",
    "\n",
    "### Basic Setup\n",
    "Before using Scipy, ensure that it is installed in your environment. You can install it via pip:\n",
    "\n",
    "```bash\n",
    "pip install scipy"
   ]
  },
  {
   "cell_type": "code",
   "execution_count": 1,
   "metadata": {},
   "outputs": [],
   "source": [
    "import scipy.stats as stats\n",
    "import scipy.optimize as optimize\n",
    "import scipy.integrate as integrate"
   ]
  },
  {
   "cell_type": "markdown",
   "metadata": {},
   "source": [
    "\n",
    "### Basic Statistical Analysis with Scipy\n",
    "\n",
    "Here we explore some fundamental statistical analysis techniques using Scipy, including descriptive statistics, t-tests, correlation, and regression analysis."
   ]
  },
  {
   "cell_type": "markdown",
   "metadata": {},
   "source": [
    "**Descriptive Statistics**"
   ]
  },
  {
   "cell_type": "code",
   "execution_count": 5,
   "metadata": {},
   "outputs": [
    {
     "name": "stdout",
     "output_type": "stream",
     "text": [
      "Mean: 169.2\n",
      "Median: 171.0\n",
      "Mode: 169 with frequency 3\n",
      "Variance: 137.06\n",
      "Standard Deviation: 11.707262703125782\n"
     ]
    }
   ],
   "source": [
    "import numpy as np\n",
    "import scipy.stats as stats\n",
    "\n",
    "# Sample data: Heights of a group of individuals (in cm)\n",
    "data = np.array([167, 170, 169, 171, 173, 174, 168, 172, 175, 169, 120, 180, 178, 172, 171, 169, 173, 172, 171, 170])\n",
    "\n",
    "# Calculate descriptive statistics\n",
    "mean = np.mean(data)\n",
    "median = np.median(data)\n",
    "mode_result = stats.mode(data)\n",
    "variance = np.var(data)\n",
    "std_dev = np.std(data)\n",
    "\n",
    "# Access mode and count safely\n",
    "mode_value = mode_result.mode[0] if isinstance(mode_result.mode, np.ndarray) else mode_result.mode\n",
    "mode_count = mode_result.count[0] if isinstance(mode_result.count, np.ndarray) else mode_result.count\n",
    "\n",
    "print(\"Mean:\", mean)\n",
    "print(\"Median:\", median)\n",
    "print(\"Mode:\", mode_value, \"with frequency\", mode_count)\n",
    "print(\"Variance:\", variance)\n",
    "print(\"Standard Deviation:\", std_dev)"
   ]
  },
  {
   "cell_type": "markdown",
   "metadata": {},
   "source": [
    "**Descriptive Statistics in higher dimentional data**"
   ]
  },
  {
   "cell_type": "code",
   "execution_count": 18,
   "metadata": {},
   "outputs": [
    {
     "name": "stdout",
     "output_type": "stream",
     "text": [
      "Temperature Data for 15 Cities Over 15 Days:\n",
      "            Kathmandu  Pokhara  Biratnagar  Birgunj  Lalitpur  Bharatpur  \\\n",
      "2024-08-01       26.5     23.3        23.2     22.8      23.6       27.5   \n",
      "2024-08-02       24.6     22.0        30.6     23.6      24.4       25.3   \n",
      "2024-08-03       26.9     25.9        25.0     28.2      21.7       24.1   \n",
      "2024-08-04       29.6     22.3        21.8     26.0      21.4       25.3   \n",
      "2024-08-05       24.3     20.8        27.5     19.7      27.4       19.0   \n",
      "\n",
      "            Hetauda  Janakpur  Dharan  Butwal  Mahendranagar  Dhangadhi  \\\n",
      "2024-08-01     25.3      26.2    27.4    29.6           25.8       26.2   \n",
      "2024-08-02     27.9      30.7    22.3    22.7           26.0       27.5   \n",
      "2024-08-03     22.9      25.5    29.2    24.0           23.0       30.7   \n",
      "2024-08-04     24.0      25.8    20.8    27.4           25.7       24.3   \n",
      "2024-08-05     23.8      24.8    26.8    21.3           25.9       22.7   \n",
      "\n",
      "            Nepalgunj  Ghorahi  Tulsipur  \n",
      "2024-08-01       26.9     26.2      26.7  \n",
      "2024-08-02       22.4     22.3      28.4  \n",
      "2024-08-03       21.8     25.5      27.9  \n",
      "2024-08-04       26.4     25.2      27.0  \n",
      "2024-08-05       24.3     21.6      24.1  \n"
     ]
    }
   ],
   "source": [
    "import numpy as np\n",
    "import scipy.stats as stats\n",
    "import pandas as pd\n",
    "\n",
    "# List of 15 Nepali cities\n",
    "cities = [\n",
    "    \"Kathmandu\", \"Pokhara\", \"Biratnagar\", \"Birgunj\", \"Lalitpur\", \n",
    "    \"Bharatpur\", \"Hetauda\", \"Janakpur\", \"Dharan\", \"Butwal\", \n",
    "    \"Mahendranagar\", \"Dhangadhi\", \"Nepalgunj\", \"Ghorahi\", \"Tulsipur\"\n",
    "]\n",
    "\n",
    "# Generate a dataset of temperatures (in °C) for 15 days across 15 cities\n",
    "np.random.seed(42)  # For reproducibility\n",
    "temperatures = {city: np.round(np.random.normal(loc=25, scale=3, size=15), 1) for city in cities}  # Mean=25°C, SD=3°C\n",
    "\n",
    "# Create a DataFrame to hold the data\n",
    "df_temperatures = pd.DataFrame(temperatures, index=pd.date_range(start='2024-08-01', periods=15))\n",
    "\n",
    "# Display the first few rows of the DataFrame\n",
    "print(\"Temperature Data for 15 Cities Over 15 Days:\")\n",
    "print(df_temperatures.head())\n",
    "\n"
   ]
  },
  {
   "cell_type": "code",
   "execution_count": 19,
   "metadata": {},
   "outputs": [
    {
     "name": "stdout",
     "output_type": "stream",
     "text": [
      "\n",
      "Descriptive Statistics for Kathmandu:\n",
      "Mean: 25.026666666666667\n",
      "Median: 24.6\n",
      "Mode: 23.6 with frequency 3\n",
      "Variance: 8.265955555555554\n",
      "Standard Deviation: 2.875057487347958\n"
     ]
    }
   ],
   "source": [
    "# Calculate descriptive statistics for one of the Kathmandu\n",
    "kathmandu_temps = df_temperatures[\"Kathmandu\"]\n",
    "\n",
    "mean = np.mean(kathmandu_temps)\n",
    "median = np.median(kathmandu_temps)\n",
    "mode_result = stats.mode(kathmandu_temps)\n",
    "variance = np.var(kathmandu_temps)\n",
    "std_dev = np.std(kathmandu_temps)\n",
    "\n",
    "# Access mode and count safely\n",
    "mode_value = mode_result.mode[0] if isinstance(mode_result.mode, np.ndarray) else mode_result.mode\n",
    "mode_count = mode_result.count[0] if isinstance(mode_result.count, np.ndarray) else mode_result.count\n",
    "\n",
    "print(\"\\nDescriptive Statistics for Kathmandu:\")\n",
    "print(\"Mean:\", mean)\n",
    "print(\"Median:\", median)\n",
    "print(\"Mode:\", mode_value, \"with frequency\", mode_count)\n",
    "print(\"Variance:\", variance)\n",
    "print(\"Standard Deviation:\", std_dev)"
   ]
  },
  {
   "cell_type": "code",
   "execution_count": 20,
   "metadata": {},
   "outputs": [
    {
     "name": "stdout",
     "output_type": "stream",
     "text": [
      "\n",
      "Descriptive Statistics for Butwal:\n",
      "Mean: 24.886666666666667\n",
      "Median: 25.7\n",
      "Mode: 21.3 with frequency 2\n",
      "Variance: 8.319822222222221\n",
      "Standard Deviation: 2.8844102035290025\n"
     ]
    }
   ],
   "source": [
    "# Calculate descriptive statistics for one of the cities, e.g., Butwal\n",
    "Butwal_temps = df_temperatures[\"Butwal\"]\n",
    "\n",
    "mean = np.mean(Butwal_temps)\n",
    "median = np.median(Butwal_temps)\n",
    "mode_result = stats.mode(Butwal_temps)\n",
    "variance = np.var(Butwal_temps)\n",
    "std_dev = np.std(Butwal_temps)\n",
    "\n",
    "# Access mode and count safely\n",
    "mode_value = mode_result.mode[0] if isinstance(mode_result.mode, np.ndarray) else mode_result.mode\n",
    "mode_count = mode_result.count[0] if isinstance(mode_result.count, np.ndarray) else mode_result.count\n",
    "\n",
    "print(\"\\nDescriptive Statistics for Butwal:\")\n",
    "print(\"Mean:\", mean)\n",
    "print(\"Median:\", median)\n",
    "print(\"Mode:\", mode_value, \"with frequency\", mode_count)\n",
    "print(\"Variance:\", variance)\n",
    "print(\"Standard Deviation:\", std_dev)"
   ]
  },
  {
   "cell_type": "markdown",
   "metadata": {},
   "source": [
    "## Inferential Statistics: T-Tests\n"
   ]
  },
  {
   "cell_type": "markdown",
   "metadata": {},
   "source": [
    "In this section, we will perform t-tests using the Scipy library to determine whether there is a statistically significant difference between the means of two groups. T-tests are widely used in inferential statistics to compare two groups and assess whether their means are significantly different from each other.\n",
    "\n",
    "### Types of T-Tests:\n",
    "\n",
    "1.\t**Independent T-Test (ttest_ind)**:\n",
    "- Used to compare the means of two independent groups.\n",
    "- Example: Comparing the average temperature of two different cities over a period.\n",
    "2.\t**Paired T-Test (ttest_rel)**:\n",
    "- Used to compare means from the same group at different times (paired data).\n",
    "- Example: Comparing the average temperature of the same city between two different weeks.\n",
    "3.\t**One-Sample T-Test (ttest_1samp)**:\n",
    "- Used to test if the mean of a single group is different from a known value.\n",
    "- Example: Testing if the average temperature in a city is different from a historical average.\n",
    "\n",
    "#### Example: Independent T-Test\n",
    "\n",
    "Let’s perform an independent t-test to compare the mean temperatures of two different cities over a 15-day period."
   ]
  },
  {
   "cell_type": "code",
   "execution_count": 25,
   "metadata": {},
   "outputs": [
    {
     "name": "stdout",
     "output_type": "stream",
     "text": [
      "Temperature Data for Kathmandu and Pokhara:\n",
      "            Kathmandu  Pokhara\n",
      "2024-08-01       26.5     24.3\n",
      "2024-08-02       24.6     23.0\n",
      "2024-08-03       26.9     26.9\n",
      "2024-08-04       29.6     23.3\n",
      "2024-08-05       24.3     21.8\n",
      "2024-08-06       24.3     30.4\n",
      "2024-08-07       29.7     25.3\n",
      "2024-08-08       27.3     26.2\n",
      "2024-08-09       23.6     21.7\n",
      "2024-08-10       26.6     24.4\n",
      "2024-08-11       23.6     26.3\n",
      "2024-08-12       23.6     22.5\n",
      "2024-08-13       25.7     27.1\n",
      "2024-08-14       19.3     24.2\n",
      "2024-08-15       19.8     25.1\n",
      "\n",
      "Independent T-Test between Kathmandu and Pokhara:\n",
      "T-Statistic: 0.1982352872256718\n",
      "P-Value: 0.8442932578984743\n",
      "Result: There is no significant difference in the mean temperatures between Kathmandu and Pokhara.\n"
     ]
    }
   ],
   "source": [
    "import numpy as np\n",
    "import scipy.stats as stats\n",
    "import pandas as pd\n",
    "\n",
    "# Generate a dataset of temperatures (in °C) for 15 days across 15 cities, rounded to 1 decimal place\n",
    "np.random.seed(42)  # For reproducibility\n",
    "temperatures = {\n",
    "    \"Kathmandu\": np.round(np.random.normal(loc=25, scale=3, size=15), 1),\n",
    "    \"Pokhara\": np.round(np.random.normal(loc=26, scale=3, size=15), 1)\n",
    "}\n",
    "\n",
    "# Create a DataFrame to hold the data\n",
    "df_temperatures = pd.DataFrame(temperatures, index=pd.date_range(start='2024-08-01', periods=15))\n",
    "\n",
    "# Display the temperature data for Kathmandu and Pokhara\n",
    "print(\"Temperature Data for Kathmandu and Pokhara:\")\n",
    "print(df_temperatures)\n",
    "\n",
    "# Perform an independent t-test\n",
    "t_stat, p_value = stats.ttest_ind(df_temperatures[\"Kathmandu\"], df_temperatures[\"Pokhara\"])\n",
    "\n",
    "print(\"\\nIndependent T-Test between Kathmandu and Pokhara:\")\n",
    "print(\"T-Statistic:\", t_stat)\n",
    "print(\"P-Value:\", p_value)\n",
    "\n",
    "# Interpretation\n",
    "if p_value < 0.05:\n",
    "    print(\"Result: There is a significant difference in the mean temperatures between Kathmandu and Pokhara.\")\n",
    "else:\n",
    "    print(\"Result: There is no significant difference in the mean temperatures between Kathmandu and Pokhara.\")"
   ]
  },
  {
   "cell_type": "markdown",
   "metadata": {},
   "source": [
    "#### Explanation:\n",
    "\n",
    "- **Dataset Generation**:\n",
    "  - We generate temperature data for Kathmandu and Pokhara over 15 days.\n",
    "  - The temperatures are simulated using a normal distribution with a mean of 25°C for Kathmandu and 26°C for Pokhara, both with a standard deviation of 3°C.\n",
    "- **Independent T-Test (ttest_ind)**:\n",
    "  - The ttest_ind() function from Scipy is used to compare the means of the two independent groups (Kathmandu and Pokhara).\n",
    "  - The t-statistic tells us the difference between the means in terms of standard errors.\n",
    "  - The p-value indicates the probability of observing the data if the null hypothesis (that the means are equal) is true.\n",
    "- **Interpretation**:\n",
    "  - If the p-value is less than 0.05, we reject the null hypothesis and conclude that there is a significant difference between the mean temperatures of the two cities.\n",
    "  - If the p-value is greater than 0.05, we fail to reject the null hypothesis, meaning there’s no significant difference between the means.\n"
   ]
  },
  {
   "attachments": {
    "pearson_correlation_formula.png": {
     "image/png": "[encoded data removed]"
    }
   },
   "cell_type": "markdown",
   "metadata": {},
   "source": [
    "## Correlation Analysis\n",
    "The **Pearson Correlation Coefficient (r)** is a measure of the linear relationship between two continuous variables. It quantifies the strength and direction of the relationship between the variables, making it a widely used statistic in data analysis.\n",
    "\n",
    "#### Pearson Correlation Coefficient (r)\n",
    "\n",
    "The Pearson correlation coefficient between two variables, X and Y, is calculated using the following formula:\n",
    "![pearson_correlation_formula.png](attachment:pearson_correlation_formula.png)\n",
    "\n",
    "\n",
    "\\[\n",
    "r = \\frac{n(\\sum{XY}) - (\\sum{X})(\\sum{Y})}{\\sqrt{[n\\sum{X^2} - (\\sum{X})^2][n\\sum{Y^2} - (\\sum{Y})^2]}}\n",
    "\\]\n",
    "\n",
    "Where:\n",
    "- \\( n \\) = Number of data points\n",
    "- \\( \\sum{XY} \\) = Sum of the product of paired scores (X and Y)\n",
    "- \\( \\sum{X} \\) = Sum of the X scores\n",
    "- \\( \\sum{Y} \\) = Sum of the Y scores\n",
    "- \\( \\sum{X^2} \\) = Sum of the squares of the X scores\n",
    "- \\( \\sum{Y^2} \\) = Sum of the squares of the Y scores\n",
    "\n",
    "#### Interpretation of r\n",
    "\n",
    "- **Range:** The Pearson correlation coefficient ranges from -1 to 1.\n",
    "  - **r = 1:** Perfect positive linear correlation.\n",
    "  - **r = 0:** No linear correlation.\n",
    "  - **r = -1:** Perfect negative linear correlation.\n",
    "\n",
    "- **Direction:**\n",
    "  - **Positive r:** Indicates a positive relationship between X and Y (as X increases, Y also increases).\n",
    "  - **Negative r:** Indicates a negative relationship between X and Y (as X increases, Y decreases).\n",
    "\n",
    "- **Strength:**\n",
    "  - **|r| > 0.7:** Strong correlation.\n",
    "  - **0.3 < |r| < 0.7:** Moderate correlation.\n",
    "  - **|r| < 0.3:** Weak correlation.\n",
    "\n",
    "#### Significance Testing\n",
    "\n",
    "The significance of the Pearson correlation coefficient can be tested using a hypothesis test:\n",
    "\n",
    "- **Null Hypothesis (H₀):** There is no correlation between the variables (r = 0).\n",
    "- **Alternative Hypothesis (H₁):** There is a correlation between the variables (r ≠ 0).\n",
    "\n",
    "The **p-value** resulting from the test indicates the probability of observing the data if the null hypothesis is true:\n",
    "- **p-value < 0.05:** Reject H₀; conclude that there is a significant correlation.\n",
    "- **p-value ≥ 0.05:** Fail to reject H₀; conclude that there is no significant correlation."
   ]
  },
  {
   "cell_type": "code",
   "execution_count": 32,
   "metadata": {},
   "outputs": [
    {
     "name": "stdout",
     "output_type": "stream",
     "text": [
      "Weather Data (Temperature and Humidity):\n",
      "            Temperature  Humidity\n",
      "2024-08-01         26.5      54.4\n",
      "2024-08-02         24.6      49.9\n",
      "2024-08-03         26.9      63.1\n",
      "2024-08-04         29.6      50.9\n",
      "2024-08-05         24.3      45.9\n",
      "2024-08-06         24.3      74.7\n",
      "2024-08-07         29.7      57.7\n",
      "2024-08-08         27.3      60.7\n",
      "2024-08-09         23.6      45.8\n",
      "2024-08-10         26.6      54.6\n",
      "2024-08-11         23.6      61.1\n",
      "2024-08-12         23.6      48.5\n",
      "2024-08-13         25.7      63.8\n",
      "2024-08-14         19.3      54.0\n",
      "2024-08-15         19.8      57.1\n",
      "\n",
      "Pearson Correlation Coefficient between Temperature and Humidity:\n",
      "Correlation Coefficient (r): 0.09051790976014557\n",
      "P-Value: 0.7483469682802646\n",
      "Result: There is no significant correlation between Temperature and Humidity.\n"
     ]
    }
   ],
   "source": [
    "import numpy as np\n",
    "import scipy.stats as stats\n",
    "import pandas as pd\n",
    "\n",
    "# Generate synthetic dataset: Temperature (°C) and Humidity (%) over 15 days\n",
    "np.random.seed(42)  # For reproducibility\n",
    "temperature = np.round(np.random.normal(loc=25, scale=3, size=15), 1)\n",
    "humidity = np.round(np.random.normal(loc=60, scale=10, size=15), 1)\n",
    "\n",
    "# Create a DataFrame to hold the data\n",
    "df_weather = pd.DataFrame({\n",
    "    \"Temperature\": temperature,\n",
    "    \"Humidity\": humidity\n",
    "}, index=pd.date_range(start='2024-08-01', periods=15))\n",
    "\n",
    "# Display the weather data\n",
    "print(\"Weather Data (Temperature and Humidity):\")\n",
    "print(df_weather)\n",
    "\n",
    "# Calculate Pearson correlation coefficient\n",
    "corr_coeff, p_value = stats.pearsonr(df_weather[\"Temperature\"], df_weather[\"Humidity\"])\n",
    "\n",
    "print(\"\\nPearson Correlation Coefficient between Temperature and Humidity:\")\n",
    "print(\"Correlation Coefficient (r):\", corr_coeff)\n",
    "print(\"P-Value:\", p_value)\n",
    "\n",
    "# Interpretation\n",
    "if p_value < 0.05:\n",
    "    if corr_coeff > 0:\n",
    "        print(\"Result: There is a significant positive correlation between Temperature and Humidity.\")\n",
    "    elif corr_coeff < 0:\n",
    "        print(\"Result: There is a significant negative correlation between Temperature and Humidity.\")\n",
    "else:\n",
    "    print(\"Result: There is no significant correlation between Temperature and Humidity.\")"
   ]
  },
  {
   "cell_type": "markdown",
   "metadata": {},
   "source": [
    "Let’s prepare an example where we have data on house prices, area (in square feet), and the year of construction for 15 houses. We’ll then compute the Pearson correlation coefficient between the area of the houses and their prices.\n",
    "\n",
    "**Example: Correlation Between House Area and Price**\n",
    "\n",
    "##### We’ll create a dataset containing the following attributes:\n",
    "\n",
    "- Price (in thousands of dollars): The price of the house.\n",
    "- Area (in square feet): The size of the house.\n",
    "- Year of Construction: The year the house was built."
   ]
  },
  {
   "cell_type": "code",
   "execution_count": 33,
   "metadata": {},
   "outputs": [
    {
     "name": "stdout",
     "output_type": "stream",
     "text": [
      "House Data with High Correlation between Area and Price:\n",
      "    Price ($1000s)  Area (sq. ft.)  Year of Construction\n",
      "0            303.6          2099.3                  1999\n",
      "1            275.6          1972.3                  2007\n",
      "2            325.7          2129.5                  1986\n",
      "3            327.5          2304.6                  1987\n",
      "4            264.7          1953.2                  2014\n",
      "5            322.3          1953.2                  1993\n",
      "6            342.9          2315.8                  1996\n",
      "7            324.4          2153.5                  2015\n",
      "8            257.4          1906.1                  2019\n",
      "9            305.4          2108.5                  1983\n",
      "10           288.3          1907.3                  1981\n",
      "11           263.0          1906.9                  1985\n",
      "12           314.8          2048.4                  2021\n",
      "13           230.6          1617.3                  1983\n",
      "14           242.4          1655.0                  2008\n"
     ]
    }
   ],
   "source": [
    "import numpy as np\n",
    "import scipy.stats as stats\n",
    "import pandas as pd\n",
    "\n",
    "# Set seed for reproducibility\n",
    "np.random.seed(42)\n",
    "\n",
    "# Generate synthetic dataset\n",
    "# Start with area, then calculate price as a function of area\n",
    "areas = np.round(np.random.normal(loc=2000, scale=200, size=15), 1)  # Mean = 2000 sq. ft., SD = 200 sq. ft.\n",
    "\n",
    "# Create a linear relationship between area and price, add a small random noise\n",
    "prices = np.round(areas * 0.15 + np.random.normal(loc=0, scale=20, size=15), 1)  # Price = Area * 0.15 + noise\n",
    "\n",
    "# Generate random years of construction\n",
    "years = np.random.randint(1980, 2023, size=15)  # Random years between 1980 and 2022\n",
    "\n",
    "# Create a DataFrame to hold the data\n",
    "df_houses = pd.DataFrame({\n",
    "    \"Price ($1000s)\": prices,\n",
    "    \"Area (sq. ft.)\": areas,\n",
    "    \"Year of Construction\": years\n",
    "})\n",
    "\n",
    "# Display the house data\n",
    "print(\"House Data with High Correlation between Area and Price:\")\n",
    "print(df_houses)\n"
   ]
  },
  {
   "cell_type": "markdown",
   "metadata": {},
   "source": [
    "##### Calculate the Pearson Correlation Coefficient\n",
    "\n",
    "We’ll calculate the correlation between the Area and Price of the houses to see if there’s a significant linear relationship between these two variables."
   ]
  },
  {
   "cell_type": "code",
   "execution_count": 34,
   "metadata": {},
   "outputs": [
    {
     "name": "stdout",
     "output_type": "stream",
     "text": [
      "\n",
      "Pearson Correlation Coefficient between Area and Price:\n",
      "Correlation Coefficient (r): 0.8961717639158209\n",
      "P-Value: 6.160646211822456e-06\n",
      "Result: There is a significant positive correlation between Area and Price.\n"
     ]
    }
   ],
   "source": [
    "\n",
    "# Calculate Pearson correlation coefficient between Area and Price\n",
    "corr_coeff, p_value = stats.pearsonr(df_houses[\"Area (sq. ft.)\"], df_houses[\"Price ($1000s)\"])\n",
    "\n",
    "print(\"\\nPearson Correlation Coefficient between Area and Price:\")\n",
    "print(\"Correlation Coefficient (r):\", corr_coeff)\n",
    "print(\"P-Value:\", p_value)\n",
    "\n",
    "# Interpretation\n",
    "if p_value < 0.05:\n",
    "    if corr_coeff > 0:\n",
    "        print(\"Result: There is a significant positive correlation between Area and Price.\")\n",
    "    elif corr_coeff < 0:\n",
    "        print(\"Result: There is a significant negative correlation between Area and Price.\")\n",
    "else:\n",
    "    print(\"Result: There is no significant correlation between Area and Price.\")"
   ]
  },
  {
   "cell_type": "markdown",
   "metadata": {},
   "source": [
    "## Regression Analysis\n",
    "Regression analysis is a statistical method used to understand the relationship between a dependent variable (often referred to as the outcome or target variable) and one or more independent variables (often referred to as predictors or features). The goal of regression analysis is to model the relationship between these variables and use the model to make predictions or infer relationships.\n",
    "\n",
    "### What is Linear Regression?\n",
    "\n",
    "Linear regression is one of the most basic and widely used forms of regression analysis. It models the relationship between two variables by fitting a linear equation to observed data. The equation of a simple linear regression model (with one predictor variable) is:\n",
    "\n",
    "\\begin{equation}\n",
    "y = \\beta_0 + \\beta_1x + \\epsilon\n",
    "\\end{equation}\n",
    "\n",
    "\n",
    "### Why is Regression Analysis Important?\n",
    "\n",
    "Regression analysis is not just an academic exercise—it's a powerful tool used in a wide range of fields, including economics, finance, medicine, and engineering. By understanding the relationship between variables, you can make informed predictions, optimize processes, and uncover insights that drive better decision-making.\n",
    "\n",
    "### Key Metrics in Regression Analysis\n",
    "\n",
    "- **Slope**: Indicates how much the dependent variable changes for a unit change in the independent variable. A positive slope means that as \\( x \\) increases, \\( y \\) increases, while a negative slope indicates that as \\( x \\) increases, \\( y \\) decreases.\n",
    "\n",
    "- **Intercept**: The expected value of \\( y \\) when \\( x \\) is 0. It provides the starting point of the regression line on the y-axis.\n",
    "\n",
    "- **R-squared**: A measure of how well the regression model explains the variability of the dependent variable. \\( R^2 \\) values range from 0 to 1, where a value closer to 1 indicates that the model explains most of the variability in the outcome.\n",
    "\n",
    "- **P-value**: Used to test the null hypothesis that there is no relationship between the independent and dependent variables. A small p-value (typically < 0.05) indicates that the relationship observed in the data is statistically significant.\n",
    "\n",
    "- **Standard Error**: An estimate of the standard deviation of the error term. It provides a measure of the accuracy of the coefficient estimates.\n",
    "\n",
    "### Practical Application: Predicting House Prices\n",
    "\n",
    "Imagine you're interested in predicting house prices based on the area of the house. By performing a linear regression analysis, you can model the relationship between the area and the price, allowing you to make accurate predictions for future house prices based on the size of the property.\n",
    "\n"
   ]
  },
  {
   "cell_type": "code",
   "execution_count": 35,
   "metadata": {},
   "outputs": [
    {
     "name": "stdout",
     "output_type": "stream",
     "text": [
      "House Data:\n",
      "    Price ($1000s)  Area (sq. ft.)\n",
      "0            303.6          2099.3\n",
      "1            275.6          1972.3\n",
      "2            325.7          2129.5\n",
      "3            327.5          2304.6\n",
      "4            264.7          1953.2\n",
      "5            322.3          1953.2\n",
      "6            342.9          2315.8\n",
      "7            324.4          2153.5\n",
      "8            257.4          1906.1\n",
      "9            305.4          2108.5\n",
      "10           288.3          1907.3\n",
      "11           263.0          1906.9\n",
      "12           314.8          2048.4\n",
      "13           230.6          1617.3\n",
      "14           242.4          1655.0\n"
     ]
    }
   ],
   "source": [
    "import numpy as np\n",
    "import scipy.stats as stats\n",
    "import pandas as pd\n",
    "import matplotlib.pyplot as plt\n",
    "\n",
    "# Set seed for reproducibility\n",
    "np.random.seed(42)\n",
    "\n",
    "# Generate synthetic dataset\n",
    "# Area in square feet\n",
    "areas = np.round(np.random.normal(loc=2000, scale=200, size=15), 1)  # Mean = 2000 sq. ft., SD = 200 sq. ft.\n",
    "\n",
    "# Price in $1000s, linearly dependent on Area, with small random noise\n",
    "prices = np.round(areas * 0.15 + np.random.normal(loc=0, scale=20, size=15), 1)  # Price = Area * 0.15 + noise\n",
    "\n",
    "# Create a DataFrame to hold the data\n",
    "df_houses = pd.DataFrame({\n",
    "    \"Price ($1000s)\": prices,\n",
    "    \"Area (sq. ft.)\": areas\n",
    "})\n",
    "\n",
    "# Display the house data\n",
    "print(\"House Data:\")\n",
    "print(df_houses)\n"
   ]
  },
  {
   "cell_type": "code",
   "execution_count": 36,
   "metadata": {},
   "outputs": [
    {
     "name": "stdout",
     "output_type": "stream",
     "text": [
      "\n",
      "Linear Regression Results:\n",
      "Slope: 0.15743023630779285\n",
      "Intercept: -22.611445569046396\n",
      "R-squared: 0.8031238304399936\n",
      "P-Value: 6.160646211822469e-06\n",
      "Standard Error: 0.02161831250161289\n"
     ]
    }
   ],
   "source": [
    "# Perform linear regression using scipy.stats.linregress\n",
    "slope, intercept, r_value, p_value, std_err = stats.linregress(df_houses[\"Area (sq. ft.)\"], df_houses[\"Price ($1000s)\"])\n",
    "\n",
    "print(\"\\nLinear Regression Results:\")\n",
    "print(f\"Slope: {slope}\")\n",
    "print(f\"Intercept: {intercept}\")\n",
    "print(f\"R-squared: {r_value**2}\")\n",
    "print(f\"P-Value: {p_value}\")\n",
    "print(f\"Standard Error: {std_err}\")\n",
    "\n",
    "# Predict prices using the regression model\n",
    "predicted_prices = slope * df_houses[\"Area (sq. ft.)\"] + intercept\n"
   ]
  },
  {
   "cell_type": "markdown",
   "metadata": {},
   "source": [
    "The equation of a straight line\n",
    "``` y = mx + c``` \n",
    "\n",
    "The linear regression model\n",
    "```price =  0.157 x Area - 22.611```"
   ]
  },
  {
   "cell_type": "code",
   "execution_count": 38,
   "metadata": {},
   "outputs": [
    {
     "data": {
      "image/png": "[encoded data removed]",
      "text/plain": [
       "<Figure size 800x600 with 1 Axes>"
      ]
     },
     "metadata": {},
     "output_type": "display_data"
    }
   ],
   "source": [
    "# Plot the data and the regression line\n",
    "plt.figure(figsize=(8, 6))\n",
    "plt.scatter(df_houses[\"Area (sq. ft.)\"], df_houses[\"Price ($1000s)\"], color='blue', label='Actual Prices')\n",
    "plt.plot(df_houses[\"Area (sq. ft.)\"], predicted_prices, color='red', label='Regression Line')\n",
    "plt.xlabel(\"Area (sq. ft.)\")\n",
    "plt.ylabel(\"Price ($1000s)\")\n",
    "plt.title(\"Linear Regression: House Prices vs. Area\")\n",
    "plt.legend()\n",
    "plt.grid(True)\n",
    "plt.show()"
   ]
  },
  {
   "cell_type": "markdown",
   "metadata": {},
   "source": [
    "### Steps to Perform Linear Regression\n",
    "\n",
    "1. **Data Collection**: Gather data on the variables of interest (e.g., house prices and areas).\n",
    "2. **Exploratory Data Analysis (EDA)**: Visualize the data to understand the relationship between variables.\n",
    "3. **Model Building**: Fit a linear regression model to the data using statistical software or programming languages like Python.\n",
    "4. **Model Evaluation**: Assess the model's performance using key metrics like R-squared and p-value.\n",
    "5. **Prediction**: Use the model to make predictions based on new or existing data.\n",
    "\n",
    "### Conclusion\n",
    "\n",
    "Linear regression is a fundamental tool in data science and statistics, providing a simple yet powerful method for modeling relationships between variables. Whether you're predicting prices, analyzing trends, or making strategic decisions, understanding regression analysis equips you with the skills to turn data into actionable insights."
   ]
  }
 ],
 "metadata": {
  "kernelspec": {
   "display_name": "base",
   "language": "python",
   "name": "python3"
  },
  "language_info": {
   "codemirror_mode": {
    "name": "ipython",
    "version": 3
   },
   "file_extension": ".py",
   "mimetype": "text/x-python",
   "name": "python",
   "nbconvert_exporter": "python",
   "pygments_lexer": "ipython3",
   "version": "3.10.6"
  }
 },
 "nbformat": 4,
 "nbformat_minor": 2
}
