{
 "cells": [
  {
   "cell_type": "markdown",
   "id": "94e233be",
   "metadata": {},
   "source": [
    "[![Open In Colab](https://colab.research.google.com/assets/colab-badge.svg)](https://colab.research.google.com/github/Nepal-Research-and-Collaboration-Center/RT2024/blob/main/Workshop_6__Numpy-and-Pandas/Workshop6_Part1_Numpy.ipynb)"
   ]
  },
  {
   "cell_type": "markdown",
   "id": "be8c0d74",
   "metadata": {},
   "source": [
    "\n",
    "# Workshop 6: Numpy Basics\n",
    "\n",
    "Welcome to the first part of Workshop 6, where we will cover the basics of Numpy. In this session, we will explore Numpy arrays, their creation, and basic operations, including indexing, slicing, and manipulating arrays.\n",
    "\n",
    "## Part 1: Numpy Basics\n"
   ]
  },
  {
   "cell_type": "markdown",
   "id": "bb43e532",
   "metadata": {},
   "source": [
    "# Introduction to Numpy\n",
    "\n",
    "**Numpy** (Numerical Python) is a powerful library in Python that provides support for large, multi-dimensional arrays and matrices. Along with that, it offers a collection of high-level mathematical functions to operate on these arrays, making it an essential tool for scientific computing and data analysis.\n",
    "\n",
    "In the context of data analysis, especially for cities like Kathmandu, Numpy can be incredibly useful for tasks such as:\n",
    "\n",
    "- Analyzing temperature patterns across different times of the year.\n",
    "- Monitoring traffic data at various intersections to optimize traffic flow.\n",
    "- Processing large datasets related to pollution levels, population density, and many more.\n",
    "\n",
    "## Why Numpy?\n",
    "\n",
    "Here's a table summarizing some of the key reasons why Numpy is widely used:\n",
    "\n",
    "| **Feature**                          | **Description**                                                                                  |\n",
    "|--------------------------------------|--------------------------------------------------------------------------------------------------|\n",
    "| **Efficient Array Computation**      | Numpy allows fast and efficient computation on arrays, enabling large-scale data processing.    |\n",
    "| **Multi-Dimensional Arrays**         | Supports multi-dimensional arrays (1D, 2D, 3D, etc.), essential for various types of data.       |\n",
    "| **Broadcasting**                     | Numpy can perform operations on arrays of different shapes, automatically expanding dimensions. |\n",
    "| **Integration with Other Libraries** | Numpy serves as a foundation for many other scientific libraries, making it highly versatile.    |"
   ]
  },
  {
   "cell_type": "markdown",
   "id": "27ba078f",
   "metadata": {},
   "source": [
    "### 1.1.\tInstallation:\n",
    "If you don’t have Numpy installed, you can install it using pip:"
   ]
  },
  {
   "cell_type": "code",
   "execution_count": 13,
   "id": "61761fb4",
   "metadata": {},
   "outputs": [],
   "source": [
    "# !pip install numpy"
   ]
  },
  {
   "cell_type": "markdown",
   "id": "8bc3e4a9",
   "metadata": {},
   "source": [
    "### 1.2.\tImporting Numpy:\n",
    "Import the Numpy library in your Python script or Jupyter Notebook:"
   ]
  },
  {
   "cell_type": "code",
   "execution_count": 14,
   "id": "5043ae1f",
   "metadata": {},
   "outputs": [],
   "source": [
    "import numpy as np"
   ]
  },
  {
   "cell_type": "markdown",
   "id": "7528f027",
   "metadata": {},
   "source": [
    "### 1.3 Example: Analyzing Temperature Data in Kathmandu\n",
    "\n",
    "Let's start with a simple example where we analyze temperature data for a week in Kathmandu using Numpy. This will help you understand the basics of Numpy arrays and their operations."
   ]
  },
  {
   "cell_type": "code",
   "execution_count": 11,
   "id": "a0ad1fb9",
   "metadata": {},
   "outputs": [
    {
     "name": "stdout",
     "output_type": "stream",
     "text": [
      "+------------+------------------+\n",
      "| Day        | Temperature (°C) |\n",
      "+------------+------------------+\n",
      "| Sunday     | 15.5             |\n",
      "| Monday     | 16.8             |\n",
      "| Tuesday    | 18.1             |\n",
      "| Wednesday  | 17.3             |\n",
      "| Thursday   | 19.2             |\n",
      "| Friday     | 20.5             |\n",
      "| Saturday   | 21.2             |\n",
      "+------------+------------------+\n"
     ]
    }
   ],
   "source": [
    "import numpy as np\n",
    "\n",
    "# Kathmandu temperature data (in degrees Celsius) over a week\n",
    "temp_data = np.array([15.5, 16.8, 18.1, 17.3, 19.2, 20.5, 21.2])\n",
    "\n",
    "# Days of the week\n",
    "days_of_week = [\"Sunday\", \"Monday\", \"Tuesday\", \"Wednesday\", \"Thursday\", \"Friday\", \"Saturday\"]\n",
    "\n",
    "# Print table header\n",
    "print(f\"+{'-'*12}+{'-'*18}+\")\n",
    "print(f\"| {'Day':<10} | {'Temperature (°C)':<16} |\")\n",
    "print(f\"+{'-'*12}+{'-'*18}+\")\n",
    "\n",
    "# Print table rows\n",
    "for day, temp in zip(days_of_week, temp_data):\n",
    "    print(f\"| {day:<10} | {temp:<16} |\")\n",
    "\n",
    "# Print table footer\n",
    "print(f\"+{'-'*12}+{'-'*18}+\")"
   ]
  },
  {
   "cell_type": "markdown",
   "id": "2b772d72",
   "metadata": {},
   "source": [
    "\n",
    "## 2. Creating Numpy Arrays\n",
    "\n",
    "Let's start by creating Numpy arrays. Numpy arrays are similar to Python lists but with added functionality and performance.\n",
    "\n",
    "### 2.1 Creating a 1D Array\n"
   ]
  },
  {
   "cell_type": "code",
   "execution_count": null,
   "id": "febff189",
   "metadata": {},
   "outputs": [],
   "source": [
    "\n",
    "import numpy as np\n",
    "\n",
    "# Creating a 1D array\n",
    "array_1d = np.array([1, 2, 3, 4, 5])\n",
    "print(\"1D Array:\", array_1d)\n"
   ]
  },
  {
   "cell_type": "markdown",
   "id": "164895a2",
   "metadata": {},
   "source": [
    "\n",
    "### 2.2 Creating 2D and 3D Arrays\n",
    "\n",
    "You can also create 2D and 3D arrays, which are useful for working with matrices or tensors.\n"
   ]
  },
  {
   "cell_type": "code",
   "execution_count": null,
   "id": "7a462a06",
   "metadata": {},
   "outputs": [],
   "source": [
    "\n",
    "# Creating a 2D array\n",
    "array_2d = np.array([[1, 2, 3], [4, 5, 6]])\n",
    "print(\"2D Array:\\n\", array_2d)\n",
    "\n",
    "# Creating a 3D array\n",
    "array_3d = np.array([[[1, 2], [3, 4]], [[5, 6], [7, 8]]])\n",
    "print(\"3D Array:\\n\", array_3d)\n"
   ]
  },
  {
   "cell_type": "markdown",
   "id": "58c28928",
   "metadata": {},
   "source": [
    "\n",
    "## 3. Array Operations\n",
    "\n",
    "Numpy allows you to perform element-wise operations on arrays, making mathematical computations efficient.\n",
    "\n",
    "### 3.1 Element-wise Operations\n"
   ]
  },
  {
   "cell_type": "code",
   "execution_count": null,
   "id": "a7dda01c",
   "metadata": {},
   "outputs": [],
   "source": [
    "\n",
    "# Element-wise addition\n",
    "array_a = np.array([1, 2, 3])\n",
    "array_b = np.array([4, 5, 6])\n",
    "result_add = array_a + array_b\n",
    "print(\"Element-wise Addition:\", result_add)\n",
    "\n",
    "# Element-wise multiplication\n",
    "result_mult = array_a * array_b\n",
    "print(\"Element-wise Multiplication:\", result_mult)\n"
   ]
  },
  {
   "cell_type": "markdown",
   "id": "e1773f66",
   "metadata": {},
   "source": [
    "\n",
    "### 3.2 Broadcasting in Numpy\n",
    "\n",
    "Numpy supports broadcasting, allowing you to perform operations on arrays of different shapes.\n"
   ]
  },
  {
   "cell_type": "code",
   "execution_count": null,
   "id": "b25125c6",
   "metadata": {},
   "outputs": [],
   "source": [
    "\n",
    "# Broadcasting example\n",
    "array_c = np.array([1, 2, 3])\n",
    "array_d = np.array([[4], [5], [6]])\n",
    "result_broadcast = array_c + array_d\n",
    "print(\"Broadcasting Result:\\n\", result_broadcast)\n"
   ]
  },
  {
   "cell_type": "markdown",
   "id": "e2967894",
   "metadata": {},
   "source": [
    "\n",
    "## 4. Indexing and Slicing\n",
    "\n",
    "Indexing and slicing in Numpy arrays work similarly to Python lists but with more powerful features.\n",
    "\n",
    "### 4.1 Accessing Elements\n"
   ]
  },
  {
   "cell_type": "code",
   "execution_count": null,
   "id": "b1426249",
   "metadata": {},
   "outputs": [],
   "source": [
    "\n",
    "# Accessing elements in a 2D array\n",
    "element = array_2d[1, 2]  # 2nd row, 3rd column\n",
    "print(\"Element at 2nd row, 3rd column:\", element)\n"
   ]
  },
  {
   "cell_type": "markdown",
   "id": "d92e5c5b",
   "metadata": {},
   "source": [
    "\n",
    "### 4.2 Slicing Arrays\n",
    "\n",
    "You can slice Numpy arrays to access subarrays.\n"
   ]
  },
  {
   "cell_type": "code",
   "execution_count": null,
   "id": "5a7222c4",
   "metadata": {},
   "outputs": [],
   "source": [
    "\n",
    "# Slicing a 2D array\n",
    "sub_array = array_2d[:, 1:3]  # All rows, 2nd to 3rd columns\n",
    "print(\"Sliced Array:\\n\", sub_array)\n"
   ]
  },
  {
   "cell_type": "markdown",
   "id": "8c4a282c",
   "metadata": {},
   "source": [
    "\n",
    "## 5. Array Manipulation\n",
    "\n",
    "Numpy provides several functions to manipulate arrays, such as reshaping, joining, and splitting arrays.\n",
    "\n",
    "### 5.1 Reshaping Arrays\n"
   ]
  },
  {
   "cell_type": "code",
   "execution_count": null,
   "id": "79eb5a66",
   "metadata": {},
   "outputs": [],
   "source": [
    "\n",
    "# Reshaping a 1D array to a 2D array\n",
    "reshaped_array = array_1d.reshape(1, 5)\n",
    "print(\"Reshaped Array:\\n\", reshaped_array)\n"
   ]
  },
  {
   "cell_type": "markdown",
   "id": "707fe617",
   "metadata": {},
   "source": [
    "\n",
    "### 5.2 Joining and Splitting Arrays\n"
   ]
  },
  {
   "cell_type": "code",
   "execution_count": null,
   "id": "029b0dd0",
   "metadata": {},
   "outputs": [],
   "source": [
    "\n",
    "# Joining two arrays\n",
    "joined_array = np.concatenate((array_a, array_b))\n",
    "print(\"Joined Array:\", joined_array)\n",
    "\n",
    "# Splitting an array\n",
    "split_array = np.array_split(joined_array, 3)\n",
    "print(\"Split Arrays:\", split_array)\n"
   ]
  }
 ],
 "metadata": {
  "kernelspec": {
   "display_name": "Python 3",
   "language": "python",
   "name": "python3"
  },
  "language_info": {
   "codemirror_mode": {
    "name": "ipython",
    "version": 3
   },
   "file_extension": ".py",
   "mimetype": "text/x-python",
   "name": "python",
   "nbconvert_exporter": "python",
   "pygments_lexer": "ipython3",
   "version": "3.10.13"
  }
 },
 "nbformat": 4,
 "nbformat_minor": 5
}
