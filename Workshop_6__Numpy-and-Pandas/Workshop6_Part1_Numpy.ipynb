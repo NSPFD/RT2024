{
 "cells": [
  {
   "cell_type": "markdown",
   "id": "94e233be",
   "metadata": {},
   "source": [
    "[![Open In Colab](https://colab.research.google.com/assets/colab-badge.svg)](https://colab.research.google.com/github/Nepal-Research-and-Collaboration-Center/RT2024/blob/main/Workshop_6__Numpy-and-Pandas/Workshop6_Part1_Numpy.ipynb)"
   ]
  },
  {
   "cell_type": "markdown",
   "id": "be8c0d74",
   "metadata": {},
   "source": [
    "\n",
    "# Workshop 6: Numpy and Pandas\n",
    "\n",
    "Welcome to the first part of Workshop 6, where we will cover the basics of Numpy. In this session, we will explore Numpy arrays, their creation, and basic operations, including indexing, slicing, and manipulating arrays.\n",
    "\n",
    "## Part 1: Numpy Basics\n"
   ]
  },
  {
   "cell_type": "markdown",
   "id": "bb43e532",
   "metadata": {},
   "source": [
    "# Introduction to Numpy\n",
    "\n",
    "**Numpy** (Numerical Python) is a powerful library in Python that provides support for large, multi-dimensional arrays and matrices. Along with that, it offers a collection of high-level mathematical functions to operate on these arrays, making it an essential tool for scientific computing and data analysis.\n",
    "\n",
    "In the context of data analysis, especially for cities like Kathmandu, Numpy can be incredibly useful for tasks such as:\n",
    "\n",
    "- Analyzing temperature patterns across different times of the year.\n",
    "- Monitoring traffic data at various intersections to optimize traffic flow.\n",
    "- Processing large datasets related to pollution levels, population density, and many more.\n",
    "\n",
    "## Why Numpy?\n",
    "\n",
    "Here's a table summarizing some of the key reasons why Numpy is widely used:\n",
    "\n",
    "| **Feature**                          | **Description**                                                                                  |\n",
    "|--------------------------------------|--------------------------------------------------------------------------------------------------|\n",
    "| **Efficient Array Computation**      | Numpy allows fast and efficient computation on arrays, enabling large-scale data processing.    |\n",
    "| **Multi-Dimensional Arrays**         | Supports multi-dimensional arrays (1D, 2D, 3D, etc.), essential for various types of data.       |\n",
    "| **Broadcasting**                     | Numpy can perform operations on arrays of different shapes, automatically expanding dimensions. |\n",
    "| **Integration with Other Libraries** | Numpy serves as a foundation for many other scientific libraries, making it highly versatile.    |"
   ]
  },
  {
   "cell_type": "markdown",
   "id": "27ba078f",
   "metadata": {},
   "source": [
    "### 1.1.\tInstallation:\n",
    "If you don’t have Numpy installed, you can install it using pip:"
   ]
  },
  {
   "cell_type": "code",
   "execution_count": 13,
   "id": "61761fb4",
   "metadata": {},
   "outputs": [],
   "source": [
    "# !pip install numpy"
   ]
  },
  {
   "cell_type": "markdown",
   "id": "8bc3e4a9",
   "metadata": {},
   "source": [
    "### 1.2.\tImporting Numpy:\n",
    "Import the Numpy library in your Python script or Jupyter Notebook:"
   ]
  },
  {
   "cell_type": "code",
   "execution_count": 14,
   "id": "5043ae1f",
   "metadata": {},
   "outputs": [],
   "source": [
    "import numpy as np"
   ]
  },
  {
   "cell_type": "markdown",
   "id": "7528f027",
   "metadata": {},
   "source": [
    "### 1.3 Example: Analyzing Temperature Data in Kathmandu\n",
    "\n",
    "Let's start with a simple example where we analyze temperature data for a week in Kathmandu using Numpy. This will help you understand the basics of Numpy arrays and their operations."
   ]
  },
  {
   "cell_type": "code",
   "execution_count": 11,
   "id": "a0ad1fb9",
   "metadata": {},
   "outputs": [
    {
     "name": "stdout",
     "output_type": "stream",
     "text": [
      "+------------+------------------+\n",
      "| Day        | Temperature (°C) |\n",
      "+------------+------------------+\n",
      "| Sunday     | 15.5             |\n",
      "| Monday     | 16.8             |\n",
      "| Tuesday    | 18.1             |\n",
      "| Wednesday  | 17.3             |\n",
      "| Thursday   | 19.2             |\n",
      "| Friday     | 20.5             |\n",
      "| Saturday   | 21.2             |\n",
      "+------------+------------------+\n"
     ]
    }
   ],
   "source": [
    "import numpy as np\n",
    "\n",
    "# Kathmandu temperature data (in degrees Celsius) over a week\n",
    "temp_data = np.array([15.5, 16.8, 18.1, 17.3, 19.2, 20.5, 21.2])\n",
    "\n",
    "# Days of the week\n",
    "days_of_week = [\"Sunday\", \"Monday\", \"Tuesday\", \"Wednesday\", \"Thursday\", \"Friday\", \"Saturday\"]\n",
    "\n",
    "# Print table header\n",
    "print(f\"+{'-'*12}+{'-'*18}+\")\n",
    "print(f\"| {'Day':<10} | {'Temperature (°C)':<16} |\")\n",
    "print(f\"+{'-'*12}+{'-'*18}+\")\n",
    "\n",
    "# Print table rows\n",
    "for day, temp in zip(days_of_week, temp_data):\n",
    "    print(f\"| {day:<10} | {temp:<16} |\")\n",
    "\n",
    "# Print table footer\n",
    "print(f\"+{'-'*12}+{'-'*18}+\")"
   ]
  },
  {
   "cell_type": "markdown",
   "id": "2b772d72",
   "metadata": {},
   "source": [
    "\n",
    "## 2. Creating Numpy Arrays\n",
    "\n",
    "Let's start by creating Numpy arrays. Numpy arrays are similar to Python lists but with added functionality and performance. Unlike Python lists, Numpy arrays are more efficient for numerical computations and are widely used in scientific computing, data analysis, and machine learning."
   ]
  },
  {
   "cell_type": "markdown",
   "id": "47a89cc0",
   "metadata": {},
   "source": [
    "### 2.1 Creating a 1D Array"
   ]
  },
  {
   "cell_type": "code",
   "execution_count": 16,
   "id": "febff189",
   "metadata": {},
   "outputs": [
    {
     "name": "stdout",
     "output_type": "stream",
     "text": [
      "1D Array: [1 2 3 4 5]\n"
     ]
    }
   ],
   "source": [
    "# Creating a 1D array\n",
    "array_1d = np.array([1, 2, 3, 4, 5])\n",
    "print(\"1D Array:\", array_1d)\n"
   ]
  },
  {
   "cell_type": "markdown",
   "id": "eee78290",
   "metadata": {},
   "source": [
    "### Example: Traffic Count at Sankhamul Bridge\n",
    "\n",
    "Let’s start with a simple example where we create a 1D array representing the number of vehicles counted at different times of the day (morning, noon, evening) crossing the at Sankhamul Bridge (Lalitpur-Kathmandu)."
   ]
  },
  {
   "cell_type": "code",
   "execution_count": 18,
   "id": "185b8f98",
   "metadata": {},
   "outputs": [
    {
     "name": "stdout",
     "output_type": "stream",
     "text": [
      "Vehicle Count at Different Times of the Day:\n",
      "Morning:  3200\n",
      "Day    :  4000\n",
      "Evening:  4500\n"
     ]
    }
   ],
   "source": [
    "# Number of vehicles at a specific intersection in Kathmandu (morning, noon, evening)\n",
    "vehicles_data = np.array([3200, 4000, 4500])\n",
    "print(\"Vehicle Count at Different Times of the Day:\")\n",
    "print(\"Morning: \", vehicles_data[0])\n",
    "print(\"Day    : \", vehicles_data[1])\n",
    "print(\"Evening: \", vehicles_data[2])"
   ]
  },
  {
   "cell_type": "markdown",
   "id": "164895a2",
   "metadata": {},
   "source": [
    "\n",
    "### 2.2 Creating 2D and 3D Arrays\n",
    "\n",
    "We can create 2D and 3D arrays, which are useful for working with matrices or tensors. Numpy also supports multi-dimensional arrays, which are essential for handling more complex data structures. For instance, a 2D array can represent data across multiple intersections or times.\n"
   ]
  },
  {
   "cell_type": "code",
   "execution_count": 23,
   "id": "7a462a06",
   "metadata": {},
   "outputs": [
    {
     "name": "stdout",
     "output_type": "stream",
     "text": [
      "2D Array:\n",
      " [[1 2 3]\n",
      " [4 5 6]]\n",
      "-------------------------\n",
      "3D Array:\n",
      " [[[1 2]\n",
      "  [3 4]]\n",
      "\n",
      " [[5 6]\n",
      "  [7 8]]]\n"
     ]
    }
   ],
   "source": [
    "# Creating a 2D array\n",
    "array_2d = np.array([[1, 2, 3], [4, 5, 6]])\n",
    "print(\"2D Array:\\n\", array_2d)\n",
    "\n",
    "print(\"-\"*25)\n",
    "# Creating a 3D array\n",
    "array_3d = np.array([[[1, 2], [3, 4]], [[5, 6], [7, 8]]])\n",
    "print(\"3D Array:\\n\", array_3d)\n"
   ]
  },
  {
   "cell_type": "markdown",
   "id": "c1b0e22f",
   "metadata": {},
   "source": [
    "### Example: Traffic Data at Multiple Intersections\n",
    "Consider a scenario where traffic data is collected at two different intersections in Kathmandu Valley at three different times of the day (morning, noon, evening). We can represent this data as a 2D array:"
   ]
  },
  {
   "cell_type": "code",
   "execution_count": 24,
   "id": "d2267876",
   "metadata": {},
   "outputs": [
    {
     "name": "stdout",
     "output_type": "stream",
     "text": [
      "Traffic Data at Two Intersections:\n",
      "[[3200 6300]\n",
      " [4000 8800]\n",
      " [4500 6400]]\n"
     ]
    }
   ],
   "source": [
    "# Traffic data at two intersections (intersection 1, intersection 2) across three time periods (morning, noon, evening)\n",
    "traffic_data = np.array([[3200, 6300], [4000, 8800], [4500, 6400]])\n",
    "print(\"Traffic Data at Two Intersections:\")\n",
    "print(traffic_data)"
   ]
  },
  {
   "cell_type": "markdown",
   "id": "e9c2462c",
   "metadata": {},
   "source": [
    "In this 2D array:\n",
    "\n",
    "**Rows** represent different times of the day (morning, noon, evening).\n",
    "**Columns** represent different intersections (Intersection 1 and Intersection 2).\n",
    "\n",
    "This format allows for easy comparison of traffic volumes across different times and locations, which is essential for effective traffic management."
   ]
  },
  {
   "cell_type": "markdown",
   "id": "f9eefac4",
   "metadata": {},
   "source": [
    "### Creating 3D Arrays\n",
    "\n",
    "3D arrays can be used to represent even more complex datasets. For example, suppose we want to track traffic data across multiple days at multiple intersections. A 3D array can store this data efficiently.\n",
    "\n",
    "### Example: Traffic Data Over Multiple Days\n",
    "\n",
    "Imagine we collect traffic data at two intersections in Kathmandu over three days. We can structure this data into a 3D array where:\n",
    "\n",
    "- **The first dimension** represents different days.\n",
    "- **The second dimension** represents different times of the day.\n",
    "- **The third dimension** represents different intersections."
   ]
  },
  {
   "cell_type": "code",
   "execution_count": 25,
   "id": "32a474a1",
   "metadata": {},
   "outputs": [
    {
     "name": "stdout",
     "output_type": "stream",
     "text": [
      "Traffic Data Over Three Days at Two Intersections:\n",
      "[[[120 130]\n",
      "  [300 280]\n",
      "  [450 400]]\n",
      "\n",
      " [[130 140]\n",
      "  [320 300]\n",
      "  [460 420]]\n",
      "\n",
      " [[125 135]\n",
      "  [310 290]\n",
      "  [455 410]]]\n"
     ]
    }
   ],
   "source": [
    "# Traffic data over three days at two intersections (intersection 1, intersection 2)\n",
    "traffic_data_3d = np.array([[[120, 130], [300, 280], [450, 400]],   # Day 1\n",
    "                            [[130, 140], [320, 300], [460, 420]],   # Day 2\n",
    "                            [[125, 135], [310, 290], [455, 410]]])  # Day 3\n",
    "\n",
    "print(\"Traffic Data Over Three Days at Two Intersections:\")\n",
    "print(traffic_data_3d)"
   ]
  },
  {
   "cell_type": "markdown",
   "id": "e0fb7191",
   "metadata": {},
   "source": [
    "\n",
    "### 2.3 Analyzing Environmental Data (1.3 Extension)\n",
    "\n",
    "Let’s consider another example where we create an array to represent temperature data collected from three different monitoring stations around Kathmandu over a week. This data can help in analyzing micro-climate variations across the city.\n",
    "\n",
    "#### Example: Temperature Data from Multiple Stations"
   ]
  },
  {
   "cell_type": "code",
   "execution_count": 28,
   "id": "e7b9c5e5",
   "metadata": {},
   "outputs": [
    {
     "name": "stdout",
     "output_type": "stream",
     "text": [
      "+------------+------------------+------------------+------------------+\n",
      "| Day        | Station 1 (°C)   | Station 2 (°C)   | Station 3 (°C)   |\n",
      "+------------+------------------+------------------+------------------+\n",
      "| Sunday     | 15.5             | 16.1             | 15.8             |\n",
      "| Monday     | 16.8             | 17.3             | 16.9             |\n",
      "| Tuesday    | 18.1             | 18.6             | 18.0             |\n",
      "| Wednesday  | 17.3             | 17.8             | 17.4             |\n",
      "| Thursday   | 19.2             | 19.7             | 19.1             |\n",
      "| Friday     | 20.5             | 21.0             | 20.6             |\n",
      "| Saturday   | 21.2             | 21.7             | 21.3             |\n",
      "+------------+------------------+------------------+------------------+\n"
     ]
    }
   ],
   "source": [
    "# Temperature data from three stations in Kathmandu over a week (each row represents a day)\n",
    "temperature_data = np.array([[15.5, 16.1, 15.8],\n",
    "                             [16.8, 17.3, 16.9],\n",
    "                             [18.1, 18.6, 18.0],\n",
    "                             [17.3, 17.8, 17.4],\n",
    "                             [19.2, 19.7, 19.1],\n",
    "                             [20.5, 21.0, 20.6],\n",
    "                             [21.2, 21.7, 21.3]])\n",
    "\n",
    "# Days of the week\n",
    "days_of_week = [\"Sunday\", \"Monday\", \"Tuesday\", \"Wednesday\", \"Thursday\", \"Friday\", \"Saturday\"]\n",
    "\n",
    "# Print table header\n",
    "print(f\"+{'-'*12}+{'-'*18}+{'-'*18}+{'-'*18}+\")\n",
    "print(f\"| {'Day':<10} | {'Station 1 (°C)':<16} | {'Station 2 (°C)':<16} | {'Station 3 (°C)':<16} |\")\n",
    "print(f\"+{'-'*12}+{'-'*18}+{'-'*18}+{'-'*18}+\")\n",
    "\n",
    "# Print table rows\n",
    "for day, temps in zip(days_of_week, temperature_data):\n",
    "    print(f\"| {day:<10} | {temps[0]:<16} | {temps[1]:<16} | {temps[2]:<16} |\")\n",
    "\n",
    "# Print table footer\n",
    "print(f\"+{'-'*12}+{'-'*18}+{'-'*18}+{'-'*18}+\")"
   ]
  },
  {
   "cell_type": "markdown",
   "id": "58c28928",
   "metadata": {},
   "source": [
    "\n",
    "## 3. Array Operations\n",
    "\n",
    "Numpy allows you to perform element-wise operations on arrays, making mathematical computations efficient.\n",
    "\n",
    "### 3.1 Element-wise Operations\n"
   ]
  },
  {
   "cell_type": "code",
   "execution_count": null,
   "id": "a7dda01c",
   "metadata": {},
   "outputs": [],
   "source": [
    "\n",
    "# Element-wise addition\n",
    "array_a = np.array([1, 2, 3])\n",
    "array_b = np.array([4, 5, 6])\n",
    "result_add = array_a + array_b\n",
    "print(\"Element-wise Addition:\", result_add)\n",
    "\n",
    "# Element-wise multiplication\n",
    "result_mult = array_a * array_b\n",
    "print(\"Element-wise Multiplication:\", result_mult)\n"
   ]
  },
  {
   "cell_type": "markdown",
   "id": "e1773f66",
   "metadata": {},
   "source": [
    "\n",
    "### 3.2 Broadcasting in Numpy\n",
    "\n",
    "Numpy supports broadcasting, allowing you to perform operations on arrays of different shapes.\n"
   ]
  },
  {
   "cell_type": "code",
   "execution_count": null,
   "id": "b25125c6",
   "metadata": {},
   "outputs": [],
   "source": [
    "\n",
    "# Broadcasting example\n",
    "array_c = np.array([1, 2, 3])\n",
    "array_d = np.array([[4], [5], [6]])\n",
    "result_broadcast = array_c + array_d\n",
    "print(\"Broadcasting Result:\\n\", result_broadcast)\n"
   ]
  },
  {
   "cell_type": "markdown",
   "id": "e2967894",
   "metadata": {},
   "source": [
    "\n",
    "## 4. Indexing and Slicing\n",
    "\n",
    "Indexing and slicing in Numpy arrays work similarly to Python lists but with more powerful features.\n",
    "\n",
    "### 4.1 Accessing Elements\n"
   ]
  },
  {
   "cell_type": "code",
   "execution_count": null,
   "id": "b1426249",
   "metadata": {},
   "outputs": [],
   "source": [
    "\n",
    "# Accessing elements in a 2D array\n",
    "element = array_2d[1, 2]  # 2nd row, 3rd column\n",
    "print(\"Element at 2nd row, 3rd column:\", element)\n"
   ]
  },
  {
   "cell_type": "markdown",
   "id": "d92e5c5b",
   "metadata": {},
   "source": [
    "\n",
    "### 4.2 Slicing Arrays\n",
    "\n",
    "You can slice Numpy arrays to access subarrays.\n"
   ]
  },
  {
   "cell_type": "code",
   "execution_count": null,
   "id": "5a7222c4",
   "metadata": {},
   "outputs": [],
   "source": [
    "\n",
    "# Slicing a 2D array\n",
    "sub_array = array_2d[:, 1:3]  # All rows, 2nd to 3rd columns\n",
    "print(\"Sliced Array:\\n\", sub_array)\n"
   ]
  },
  {
   "cell_type": "markdown",
   "id": "8c4a282c",
   "metadata": {},
   "source": [
    "\n",
    "## 5. Array Manipulation\n",
    "\n",
    "Numpy provides several functions to manipulate arrays, such as reshaping, joining, and splitting arrays.\n",
    "\n",
    "### 5.1 Reshaping Arrays\n"
   ]
  },
  {
   "cell_type": "code",
   "execution_count": null,
   "id": "79eb5a66",
   "metadata": {},
   "outputs": [],
   "source": [
    "\n",
    "# Reshaping a 1D array to a 2D array\n",
    "reshaped_array = array_1d.reshape(1, 5)\n",
    "print(\"Reshaped Array:\\n\", reshaped_array)\n"
   ]
  },
  {
   "cell_type": "markdown",
   "id": "707fe617",
   "metadata": {},
   "source": [
    "\n",
    "### 5.2 Joining and Splitting Arrays\n"
   ]
  },
  {
   "cell_type": "code",
   "execution_count": null,
   "id": "029b0dd0",
   "metadata": {},
   "outputs": [],
   "source": [
    "\n",
    "# Joining two arrays\n",
    "joined_array = np.concatenate((array_a, array_b))\n",
    "print(\"Joined Array:\", joined_array)\n",
    "\n",
    "# Splitting an array\n",
    "split_array = np.array_split(joined_array, 3)\n",
    "print(\"Split Arrays:\", split_array)\n"
   ]
  }
 ],
 "metadata": {
  "kernelspec": {
   "display_name": "Python 3",
   "language": "python",
   "name": "python3"
  },
  "language_info": {
   "codemirror_mode": {
    "name": "ipython",
    "version": 3
   },
   "file_extension": ".py",
   "mimetype": "text/x-python",
   "name": "python",
   "nbconvert_exporter": "python",
   "pygments_lexer": "ipython3",
   "version": "3.10.13"
  }
 },
 "nbformat": 4,
 "nbformat_minor": 5
}
