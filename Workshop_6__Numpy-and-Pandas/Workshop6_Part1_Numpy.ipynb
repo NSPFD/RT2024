{
 "cells": [
  {
   "cell_type": "markdown",
   "id": "94e233be",
   "metadata": {},
   "source": [
    "[![Open In Colab](https://colab.research.google.com/assets/colab-badge.svg)](https://colab.research.google.com/github/Nepal-Research-and-Collaboration-Center/RT2024/blob/main/Workshop 6: Numpy and Pandas/Workshop6_Part1_Numpy.ipynb)"
   ]
  },
  {
   "cell_type": "markdown",
   "id": "be8c0d74",
   "metadata": {},
   "source": [
    "\n",
    "# Workshop 6: Numpy Basics\n",
    "\n",
    "Welcome to the first part of Workshop 6, where we will cover the basics of Numpy. In this session, we will explore Numpy arrays, their creation, and basic operations, including indexing, slicing, and manipulating arrays.\n",
    "\n",
    "## Part 1: Numpy Basics\n"
   ]
  },
  {
   "cell_type": "markdown",
   "id": "bb43e532",
   "metadata": {},
   "source": [
    "\n",
    "## 1. Introduction to Numpy\n",
    "\n",
    "**Numpy** is a fundamental package for scientific computing in Python. It provides support for arrays, matrices, and many mathematical operations.\n",
    "\n",
    "### Why Numpy?\n",
    "\n",
    "- Fast and efficient array operations.\n",
    "- Supports large multidimensional arrays and matrices.\n",
    "- Provides a large library of mathematical functions.\n"
   ]
  },
  {
   "cell_type": "markdown",
   "id": "2b772d72",
   "metadata": {},
   "source": [
    "\n",
    "## 2. Creating Numpy Arrays\n",
    "\n",
    "Let's start by creating Numpy arrays. Numpy arrays are similar to Python lists but with added functionality and performance.\n",
    "\n",
    "### 2.1 Creating a 1D Array\n"
   ]
  },
  {
   "cell_type": "code",
   "execution_count": null,
   "id": "febff189",
   "metadata": {},
   "outputs": [],
   "source": [
    "\n",
    "import numpy as np\n",
    "\n",
    "# Creating a 1D array\n",
    "array_1d = np.array([1, 2, 3, 4, 5])\n",
    "print(\"1D Array:\", array_1d)\n"
   ]
  },
  {
   "cell_type": "markdown",
   "id": "164895a2",
   "metadata": {},
   "source": [
    "\n",
    "### 2.2 Creating 2D and 3D Arrays\n",
    "\n",
    "You can also create 2D and 3D arrays, which are useful for working with matrices or tensors.\n"
   ]
  },
  {
   "cell_type": "code",
   "execution_count": null,
   "id": "7a462a06",
   "metadata": {},
   "outputs": [],
   "source": [
    "\n",
    "# Creating a 2D array\n",
    "array_2d = np.array([[1, 2, 3], [4, 5, 6]])\n",
    "print(\"2D Array:\\n\", array_2d)\n",
    "\n",
    "# Creating a 3D array\n",
    "array_3d = np.array([[[1, 2], [3, 4]], [[5, 6], [7, 8]]])\n",
    "print(\"3D Array:\\n\", array_3d)\n"
   ]
  },
  {
   "cell_type": "markdown",
   "id": "58c28928",
   "metadata": {},
   "source": [
    "\n",
    "## 3. Array Operations\n",
    "\n",
    "Numpy allows you to perform element-wise operations on arrays, making mathematical computations efficient.\n",
    "\n",
    "### 3.1 Element-wise Operations\n"
   ]
  },
  {
   "cell_type": "code",
   "execution_count": null,
   "id": "a7dda01c",
   "metadata": {},
   "outputs": [],
   "source": [
    "\n",
    "# Element-wise addition\n",
    "array_a = np.array([1, 2, 3])\n",
    "array_b = np.array([4, 5, 6])\n",
    "result_add = array_a + array_b\n",
    "print(\"Element-wise Addition:\", result_add)\n",
    "\n",
    "# Element-wise multiplication\n",
    "result_mult = array_a * array_b\n",
    "print(\"Element-wise Multiplication:\", result_mult)\n"
   ]
  },
  {
   "cell_type": "markdown",
   "id": "e1773f66",
   "metadata": {},
   "source": [
    "\n",
    "### 3.2 Broadcasting in Numpy\n",
    "\n",
    "Numpy supports broadcasting, allowing you to perform operations on arrays of different shapes.\n"
   ]
  },
  {
   "cell_type": "code",
   "execution_count": null,
   "id": "b25125c6",
   "metadata": {},
   "outputs": [],
   "source": [
    "\n",
    "# Broadcasting example\n",
    "array_c = np.array([1, 2, 3])\n",
    "array_d = np.array([[4], [5], [6]])\n",
    "result_broadcast = array_c + array_d\n",
    "print(\"Broadcasting Result:\\n\", result_broadcast)\n"
   ]
  },
  {
   "cell_type": "markdown",
   "id": "e2967894",
   "metadata": {},
   "source": [
    "\n",
    "## 4. Indexing and Slicing\n",
    "\n",
    "Indexing and slicing in Numpy arrays work similarly to Python lists but with more powerful features.\n",
    "\n",
    "### 4.1 Accessing Elements\n"
   ]
  },
  {
   "cell_type": "code",
   "execution_count": null,
   "id": "b1426249",
   "metadata": {},
   "outputs": [],
   "source": [
    "\n",
    "# Accessing elements in a 2D array\n",
    "element = array_2d[1, 2]  # 2nd row, 3rd column\n",
    "print(\"Element at 2nd row, 3rd column:\", element)\n"
   ]
  },
  {
   "cell_type": "markdown",
   "id": "d92e5c5b",
   "metadata": {},
   "source": [
    "\n",
    "### 4.2 Slicing Arrays\n",
    "\n",
    "You can slice Numpy arrays to access subarrays.\n"
   ]
  },
  {
   "cell_type": "code",
   "execution_count": null,
   "id": "5a7222c4",
   "metadata": {},
   "outputs": [],
   "source": [
    "\n",
    "# Slicing a 2D array\n",
    "sub_array = array_2d[:, 1:3]  # All rows, 2nd to 3rd columns\n",
    "print(\"Sliced Array:\\n\", sub_array)\n"
   ]
  },
  {
   "cell_type": "markdown",
   "id": "8c4a282c",
   "metadata": {},
   "source": [
    "\n",
    "## 5. Array Manipulation\n",
    "\n",
    "Numpy provides several functions to manipulate arrays, such as reshaping, joining, and splitting arrays.\n",
    "\n",
    "### 5.1 Reshaping Arrays\n"
   ]
  },
  {
   "cell_type": "code",
   "execution_count": null,
   "id": "79eb5a66",
   "metadata": {},
   "outputs": [],
   "source": [
    "\n",
    "# Reshaping a 1D array to a 2D array\n",
    "reshaped_array = array_1d.reshape(1, 5)\n",
    "print(\"Reshaped Array:\\n\", reshaped_array)\n"
   ]
  },
  {
   "cell_type": "markdown",
   "id": "707fe617",
   "metadata": {},
   "source": [
    "\n",
    "### 5.2 Joining and Splitting Arrays\n"
   ]
  },
  {
   "cell_type": "code",
   "execution_count": null,
   "id": "029b0dd0",
   "metadata": {},
   "outputs": [],
   "source": [
    "\n",
    "# Joining two arrays\n",
    "joined_array = np.concatenate((array_a, array_b))\n",
    "print(\"Joined Array:\", joined_array)\n",
    "\n",
    "# Splitting an array\n",
    "split_array = np.array_split(joined_array, 3)\n",
    "print(\"Split Arrays:\", split_array)\n"
   ]
  }
 ],
 "metadata": {},
 "nbformat": 4,
 "nbformat_minor": 5
}
